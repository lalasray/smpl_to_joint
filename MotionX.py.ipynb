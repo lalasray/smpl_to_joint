{
 "cells": [
  {
   "cell_type": "code",
   "execution_count": null,
   "id": "3d337f97",
   "metadata": {},
   "outputs": [
    {
     "name": "stderr",
     "output_type": "stream",
     "text": [
      "/home/lala/anaconda3/envs/smpltojoint/lib/python3.7/site-packages/tqdm/auto.py:22: TqdmWarning: IProgress not found. Please update jupyter and ipywidgets. See https://ipywidgets.readthedocs.io/en/stable/user_install.html\n",
      "  from .autonotebook import tqdm as notebook_tqdm\n",
      "/home/lala/Documents/GitHub/smpl_to_joint/smplpytorch/pytorch/smpl_layer.py:41: UserWarning: The given NumPy array is not writable, and PyTorch does not support non-writable tensors. This means writing to this tensor will result in undefined behavior. You may want to copy the array to protect its data or make it writable before converting it to a tensor. This type of warning will be suppressed for the rest of this program. (Triggered internally at  /croot/pytorch_1675190298929/work/torch/csrc/utils/tensor_numpy.cpp:172.)\n",
      "  torch.Tensor(smpl_data['betas'].r).unsqueeze(0))\n"
     ]
    },
    {
     "name": "stdout",
     "output_type": "stream",
     "text": [
      "Saving figure at /home/lala/Documents/GitHub/smpl_to_joint/pic/image_0.png.\n"
     ]
    }
   ],
   "source": [
    "import numpy as np\n",
    "import torch\n",
    "from smplpytorch.pytorch.smpl_layer import SMPL_Layer\n",
    "from display_utils import display_model  # Ensure this utility is available and correct\n",
    "\n",
    "# Set whether to use CUDA\n",
    "cuda = torch.cuda.is_available()\n",
    "\n",
    "# Load SMPL Layer\n",
    "smpl_layer = SMPL_Layer(center_idx=0, gender='neutral', model_root='smplpytorch/native/models')\n",
    "if cuda:\n",
    "    smpl_layer = smpl_layer.cuda()\n",
    "\n",
    "# Load motion data\n",
    "motion = np.load(r'/media/lala/Elements/motionx/motion_data/smplx_322/idea400/subset_0003/Air_Quotes._During_Walking.npy')\n",
    "motion = torch.tensor(motion).float()\n",
    "\n",
    "# Organize motion parameters\n",
    "motion_parms = {\n",
    "    'root_orient': motion[:, :3],  # global root orientation\n",
    "    'pose_body': motion[:, 3:3+63],  # body pose\n",
    "    'pose_hand': motion[:, 66:66+90],  # finger articulation\n",
    "    'pose_jaw': motion[:, 66+90:66+93],  # jaw pose\n",
    "    'face_expr': motion[:, 159:159+50],  # face expression\n",
    "    'face_shape': motion[:, 209:209+100],  # face shape\n",
    "    'trans': motion[:, 309:309+3],  # global body position\n",
    "    'betas': motion[:, 312:],  # body shape (static)\n",
    "}\n",
    "\n",
    "# Add zeros for missing pose elements if necessary\n",
    "zeros = torch.zeros(motion_parms['pose_body'].size(0), 6)\n",
    "motion_parms['pose_body'] = torch.cat((motion_parms['pose_body'], zeros), dim=1)\n",
    "\n",
    "# Process each frame\n",
    "for frame_index in range(motion_parms['root_orient'].shape[0]):\n",
    "    global_orient = motion_parms['root_orient'][frame_index]\n",
    "    body_shape = motion_parms['betas'][frame_index]\n",
    "    body_pose = motion_parms['pose_body'][frame_index]\n",
    "    translation = motion_parms['trans'][frame_index]\n",
    "    \n",
    "    # Prepare pose and shape parameters\n",
    "    pose_params = torch.cat([global_orient.view(1, -1), body_pose.view(1, -1)], dim=1)\n",
    "    shape_params = body_shape.view(1, -1)\n",
    "    \n",
    "    if cuda:\n",
    "        pose_params = pose_params.cuda()\n",
    "        shape_params = shape_params.cuda()\n",
    "        translation = translation.cuda()\n",
    "    \n",
    "    # Get vertices and joints\n",
    "    verts, Jtr = smpl_layer(pose_params, th_betas=shape_params)\n",
    "    \n",
    "    # Add translation to vertices and joints\n",
    "    verts += translation.view(1, 1, -1)\n",
    "    Jtr += translation.view(1, 1, -1)\n",
    "    \n",
    "    # Convert to CPU and detach for visualization\n",
    "    verts_cpu = verts.cpu().detach()\n",
    "    Jtr_cpu = Jtr.cpu().detach()\n",
    "    \n",
    "    # Display and save the model\n",
    "    display_model(\n",
    "        {'verts': verts_cpu, 'joints': Jtr_cpu},\n",
    "        model_faces=smpl_layer.th_faces,\n",
    "        with_joints=True,\n",
    "        kintree_table=smpl_layer.kintree_table,\n",
    "        savepath=f'/home/lala/Documents/GitHub/smpl_to_joint/pic/image_{frame_index}.png',\n",
    "        show=False\n",
    "    )\n",
    "\n",
    "print(\"Processing complete.\")\n"
   ]
  },
  {
   "cell_type": "code",
   "execution_count": null,
   "id": "73f77f94",
   "metadata": {},
   "outputs": [],
   "source": []
  }
 ],
 "metadata": {
  "kernelspec": {
   "display_name": "Python 3 (ipykernel)",
   "language": "python",
   "name": "python3"
  },
  "language_info": {
   "codemirror_mode": {
    "name": "ipython",
    "version": 3
   },
   "file_extension": ".py",
   "mimetype": "text/x-python",
   "name": "python",
   "nbconvert_exporter": "python",
   "pygments_lexer": "ipython3",
   "version": "3.7.16"
  }
 },
 "nbformat": 4,
 "nbformat_minor": 5
}
