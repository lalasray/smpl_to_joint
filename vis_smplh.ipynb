{
 "cells": [
  {
   "cell_type": "code",
   "execution_count": 9,
   "id": "5be1159c",
   "metadata": {},
   "outputs": [],
   "source": [
    "import numpy as np\n",
    "import torch\n",
    "from smplpytorch.pytorch.smpl_layer import SMPL_Layer\n",
    "from display_utils import display_model\n",
    "import tqdm as notebook_tqdm\n",
    "import torch\n",
    "import sys\n",
    "from manopth.manolayer import ManoLayer\n",
    "from manopth import demo"
   ]
  },
  {
   "cell_type": "code",
   "execution_count": 12,
   "id": "bcbcf86b",
   "metadata": {},
   "outputs": [],
   "source": [
    "data_type = \"smplx\"  \n",
    "cuda = False\n",
    "batch_size = 1\n",
    "pca = False\n",
    "body_shape = torch.rand(batch_size, 10)\n",
    "if pca == True:\n",
    "    ncomps = 6\n",
    "elif pca == False:\n",
    "    ncomps = 45"
   ]
  },
  {
   "cell_type": "code",
   "execution_count": 14,
   "id": "5d5ec8ff",
   "metadata": {},
   "outputs": [],
   "source": [
    "file = np.load(\"C:/Users/lalas/Downloads/val/val/npz/11JT4jRNI-o_12-2-rgb_front.npz\")\n",
    "smpl_layer = SMPL_Layer(center_idx=0, gender='neutral', model_root='smplpytorch/native/models')\n",
    "mano_layer = ManoLayer(mano_root='mano/models', use_pca=pca, ncomps=ncomps, flat_hand_mean=False)"
   ]
  },
  {
   "cell_type": "code",
   "execution_count": 31,
   "id": "3113e98a",
   "metadata": {},
   "outputs": [
    {
     "name": "stderr",
     "output_type": "stream",
     "text": [
      "C:\\Users\\lalas\\anaconda3\\envs\\smplpytorch\\lib\\site-packages\\ipykernel_launcher.py:12: UserWarning: To copy construct from a tensor, it is recommended to use sourceTensor.clone().detach() or sourceTensor.clone().detach().requires_grad_(True), rather than torch.tensor(sourceTensor).\n",
      "  if sys.path[0] == \"\":\n"
     ]
    }
   ],
   "source": [
    "for frame_index in range(file['smplx_root_pose'].shape[0]):\n",
    "    global_orient = file['smplx_root_pose'][frame_index]\n",
    "    body_pose = file['smplx_body_pose'][frame_index]\n",
    "    if data_type == \"smplx\":\n",
    "        pose_params_h = torch.cat([torch.tensor(global_orient).view(1, -1), torch.tensor(body_pose).view(1, -1)], dim=1)\n",
    "        hands = torch.zeros(1, 6)\n",
    "        pose_params = torch.cat((pose_params_h, hands), dim=1)\n",
    "    elif data_type == \"smpl\":\n",
    "        pose_params = torch.cat([torch.tensor(global_orient).view(1, -1), torch.tensor(body_pose).view(1, -1)], dim=1)\n",
    "    shape_params = torch.tensor(body_shape.reshape(batch_size, -1), dtype=torch.float32)\n",
    "    verts, Jtr = smpl_layer(pose_params, th_betas=shape_params)\n",
    "    #torch.save(Jtr, f'joint/body_{frame_index}.pt')\n",
    "    #display_model({'verts': verts.cpu().detach(), 'joints': Jtr.cpu().detach()}, model_faces=smpl_layer.th_faces,with_joints=True, kintree_table=smpl_layer.kintree_table, savepath=f'pic/image_{frame_index}.png', show=False)"
   ]
  },
  {
   "cell_type": "code",
   "execution_count": 29,
   "id": "e9f0aec9",
   "metadata": {},
   "outputs": [],
   "source": [
    "for frame_index in range(file['smplx_root_pose'].shape[0]):\n",
    "    lhand_pose_i = file['smplx_lhand_pose'][frame_index]\n",
    "    rhand_pose_i = file['smplx_rhand_pose'][frame_index]\n",
    "    root = torch.zeros(1,3)\n",
    "    lhand_pose = torch.cat((root, torch.tensor(lhand_pose_i.reshape(1, -1))), dim=1)\n",
    "    rhand_pose = torch.cat((root, torch.tensor(rhand_pose_i.reshape(1, -1))), dim=1)\n",
    "    random_pose = torch.rand(batch_size, ncomps + 3)\n",
    "    #print(random_pose.shape, lhand_pose.shape)\n",
    "    lhand_verts, lhand_joints = mano_layer(lhand_pose, body_shape)\n",
    "    rhand_verts, rhand_joints = mano_layer(rhand_pose, body_shape)\n",
    "    #torch.save(lhand_joints, f'joint/lhand_{frame_index}.pt')\n",
    "    #torch.save(rhand_joints, f'joint/rhand_{frame_index}.pt')\n",
    "    #demo.display_hand({'verts': rhand_verts,'joints': rhand_joints},mano_faces=mano_layer.th_faces)\n",
    "    #demo.display_hand({'verts': lhand_verts,'joints': lhand_joints},mano_faces=mano_layer.th_faces)"
   ]
  },
  {
   "cell_type": "code",
   "execution_count": null,
   "id": "d22f6764",
   "metadata": {},
   "outputs": [],
   "source": []
  }
 ],
 "metadata": {
  "kernelspec": {
   "display_name": "Python 3 (ipykernel)",
   "language": "python",
   "name": "python3"
  },
  "language_info": {
   "codemirror_mode": {
    "name": "ipython",
    "version": 3
   },
   "file_extension": ".py",
   "mimetype": "text/x-python",
   "name": "python",
   "nbconvert_exporter": "python",
   "pygments_lexer": "ipython3",
   "version": "3.7.1"
  }
 },
 "nbformat": 4,
 "nbformat_minor": 5
}
